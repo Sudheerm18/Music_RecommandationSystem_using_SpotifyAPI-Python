{
 "cells": [
  {
   "cell_type": "markdown",
   "metadata": {},
   "source": [
    "## **MUSIC RECOMMENDATION SYSTEM USING SPOTIFY API AND PYTHON**"
   ]
  },
  {
   "cell_type": "markdown",
   "metadata": {},
   "source": [
    "### <u>INTRODUCTION-</u>"
   ]
  },
  {
   "cell_type": "markdown",
   "metadata": {},
   "source": [
    "##### \"In this project, we dive into building a personalized music recommendation system. Music recommendation systems help users discover new songs and artists based on their preferences. Using Python, NLP, and deep learning techniques, we’ll harness the Spotify API to create recommendations that mirror the algorithms behind streaming giants like Spotify and Apple Music.\" "
   ]
  },
  {
   "cell_type": "markdown",
   "metadata": {},
   "source": [
    "### <u>Objective-</u>"
   ]
  },
  {
   "cell_type": "markdown",
   "metadata": {},
   "source": [
    "#### \"To implement a recommendation system that recommends music tailored to user preferences and musical history, helping users explore new music in a personalized manner.\""
   ]
  },
  {
   "cell_type": "markdown",
   "metadata": {},
   "source": [
    "### <u> How Music Recommandation System Works-</u>"
   ]
  },
  {
   "cell_type": "markdown",
   "metadata": {},
   "source": [
    "#### This section explains the recommendation algorithms and processes:\n",
    "####\n",
    "#### \"Recommendation systems use advanced algorithms to analyze users' listening history, liked and disliked tracks, and even feedback. Here are some popular approaches:\n",
    "####\n",
    "#### Content-Based Filtering: Recommends music based on similarities to previously liked songs.\n",
    "#### Collaborative Filtering: Finds users with similar listening habits to generate recommendations.\n",
    "#### Hybrid Systems: Combines both methods to boost recommendation quality.\" #####\n",
    "\n",
    "#### *HYBRID SYSTEMS APPROACH IS USED IN IT*"
   ]
  },
  {
   "cell_type": "markdown",
   "metadata": {},
   "source": [
    "#### <u>Why Use Spotify API?</u>\n",
    "\n",
    "#### <u>Spotify API Introduction:</u>\n",
    "\n",
    "#### \"The Spotify API provides access to a vast catalog of music data, including track information, artist details, playlists, and audio features like tempo and energy. By integrating Spotify data, we can create rich user profiles and more accurate music recommendations.\"\n",
    "\n",
    "#### <U> Setup and Authentication:</u>\n",
    "\n",
    "#### \"To access Spotify data, you'll need to create a Spotify developer account and generate an API key, which will allow us to interact with the Spotify catalog programmatically.\""
   ]
  },
  {
   "cell_type": "markdown",
   "metadata": {},
   "source": [
    "### <u> DIVING INTO THE PROJECT-</u>\n",
    "\n",
    "#### I hope you have understood what a **Music Recommendation System** is. Now, in this section, I’ll take you through building a Music Recommendation System using **Spotify API** and **Python**.\n",
    "\n",
    "#### To get started with building a Music Recommendation System, we first need to have an **access token**. The access token serves as a temporary authorization credential, allowing the code to make authenticated requests to the Spotify API on behalf of the application. Below is how we can get it:\n"
   ]
  },
  {
   "cell_type": "code",
   "execution_count": 27,
   "metadata": {},
   "outputs": [
    {
     "name": "stdout",
     "output_type": "stream",
     "text": [
      "Access token obtained successfully.\n"
     ]
    }
   ],
   "source": [
    "import requests\n",
    "import base64\n",
    "\n",
    "CLIENT_ID = '7d2df6c8c1b9435882308038dff6d342'\n",
    "CLIENT_SECRET = '3f647d4b8fa447e8b2be350438fdaa48'\n",
    "\n",
    "client_credentials = f\"{CLIENT_ID}:{CLIENT_SECRET}\"\n",
    "client_credentials_base64 = base64.b64encode(client_credentials.encode())\n",
    "\n",
    "token_url = 'https://accounts.spotify.com/api/token'\n",
    "headers = {\n",
    "    'Authorization': f'Basic {client_credentials_base64.decode()}'\n",
    "}\n",
    "data = {\n",
    "    'grant_type': 'client_credentials'\n",
    "}\n",
    "response = requests.post(token_url, data=data, headers=headers)\n",
    "\n",
    "if response.status_code == 200:\n",
    "    access_token = response.json()['access_token']\n",
    "    print(\"Access token obtained successfully.\")\n",
    "else:\n",
    "    print(\"Error obtaining access token.\")\n",
    "    exit()"
   ]
  },
  {
   "cell_type": "markdown",
   "metadata": {},
   "source": [
    "#### <u> Setting Up Spotify API Access Credentials-</u>\n",
    "\n",
    "#### In the code, the *CLIENT_ID* and *CLIENT_SECRET* variables hold your unique credentials for accessing the Spotify API. **These credentials are essential for authenticating the application* and are obtained from Spotify’s developer dashboard when you register your application.\n",
    "\n",
    "#### - *CLIENT_ID*: Uniquely identifies the application making requests to the Spotify API.\n",
    "#### - **CLIENT_SECRET*: A confidential key used alongside the *CLIENT_ID* for secure access.\n",
    "\n",
    "\n",
    "#### Now, I’ll write a function to get music data from any playlist on Spotify. For this task, you need to install the Spotipy library, which is a Python library providing access to Spotify’s web API. Here’s how to install it on your system by writing the command mentioned below in your command prompt or terminal:\n",
    "\n",
    "#### *pip install spotipy*\n",
    "#### Below I am defining a function responsible for collecting music data from any playlist on Spotify using the Spotipy library:\n"
   ]
  },
  {
   "cell_type": "code",
   "execution_count": 28,
   "metadata": {},
   "outputs": [],
   "source": [
    "import pandas as pd\n",
    "import spotipy\n",
    "from spotipy.oauth2 import SpotifyOAuth\n",
    "\n",
    "def get_trending_playlist_data(playlist_id, access_token):\n",
    "\n",
    "    sp = spotipy.Spotify(auth=access_token)\n",
    "\n",
    "    playlist_tracks = sp.playlist_tracks(playlist_id, fields='items(track(id, name, artists, album(id, name)))')\n",
    "\n",
    "    music_data = []\n",
    "    for track_info in playlist_tracks['items']:\n",
    "        track = track_info['track']\n",
    "        track_name = track['name']\n",
    "        artists = ', '.join([artist['name'] for artist in track['artists']])\n",
    "        album_name = track['album']['name']\n",
    "        album_id = track['album']['id']\n",
    "        track_id = track['id']\n",
    "\n",
    "        \n",
    "        audio_features = sp.audio_features(track_id)[0] if track_id != 'Not available' else None\n",
    "\n",
    "    \n",
    "        try:\n",
    "            album_info = sp.album(album_id) if album_id != 'Not available' else None\n",
    "            release_date = album_info['release_date'] if album_info else None\n",
    "        except:\n",
    "            release_date = None\n",
    "\n",
    "        \n",
    "        try:\n",
    "            track_info = sp.track(track_id) if track_id != 'Not available' else None\n",
    "            popularity = track_info['popularity'] if track_info else None\n",
    "        except:\n",
    "            popularity = None\n",
    "\n",
    "    \n",
    "        track_data = {\n",
    "            'Track Name': track_name,\n",
    "            'Artists': artists,\n",
    "            'Album Name': album_name,\n",
    "            'Album ID': album_id,\n",
    "            'Track ID': track_id,\n",
    "            'Popularity': popularity,\n",
    "            'Release Date': release_date,\n",
    "            'Duration (ms)': audio_features['duration_ms'] if audio_features else None,\n",
    "            'Explicit': track_info.get('explicit', None),\n",
    "            'External URLs': track_info.get('external_urls', {}).get('spotify', None),\n",
    "            'Danceability': audio_features['danceability'] if audio_features else None,\n",
    "            'Energy': audio_features['energy'] if audio_features else None,\n",
    "            'Key': audio_features['key'] if audio_features else None,\n",
    "            'Loudness': audio_features['loudness'] if audio_features else None,\n",
    "            'Mode': audio_features['mode'] if audio_features else None,\n",
    "            'Speechiness': audio_features['speechiness'] if audio_features else None,\n",
    "            'Acousticness': audio_features['acousticness'] if audio_features else None,\n",
    "            'Instrumentalness': audio_features['instrumentalness'] if audio_features else None,\n",
    "            'Liveness': audio_features['liveness'] if audio_features else None,\n",
    "            'Valence': audio_features['valence'] if audio_features else None,\n",
    "            'Tempo': audio_features['tempo'] if audio_features else None,\n",
    "        \n",
    "        }\n",
    "\n",
    "        music_data.append(track_data)\n",
    "\n",
    "    \n",
    "    df = pd.DataFrame(music_data)\n",
    "\n",
    "    return df"
   ]
  },
  {
   "cell_type": "code",
   "execution_count": 29,
   "metadata": {},
   "outputs": [
    {
     "name": "stdout",
     "output_type": "stream",
     "text": [
      "                  Track Name  \\\n",
      "0                Mari Antaga   \n",
      "1                Life Of Ram   \n",
      "2              Nee Prashnalu   \n",
      "3            Nammaka Tappani   \n",
      "4   Ee Kshnam Oke Oka Korika   \n",
      "..                       ...   \n",
      "95             Nammave Ammai   \n",
      "96                Alupannadi   \n",
      "97            Nenani Neevani   \n",
      "98  Nindu Noorella Version 2   \n",
      "99            Cheppave Prema   \n",
      "\n",
      "                                              Artists  \\\n",
      "0   Mickey J. Meyer, Sreerama Chandra, Sirivennela...   \n",
      "1                                       Pradeep Kumar   \n",
      "2                              S. P. Balasubrahmanyam   \n",
      "3                                    Sagar, Sumangaly   \n",
      "4                                       K. S. Chithra   \n",
      "..                                                ...   \n",
      "95                  Harish Raghavendra, K. S. Chithra   \n",
      "96                                      K. S. Chithra   \n",
      "97                                      Shweta Pandit   \n",
      "98                         Gopika Poornima, Kamalakar   \n",
      "99                                R. P. Patnaik, Usha   \n",
      "\n",
      "                            Album Name                Album ID  \\\n",
      "0   Seethamma Vakitlo Sirimalle Chettu  4nbsEScX6MTTXwXFU2nAbc   \n",
      "1                                Jaanu  76Gn7WA0mvH8Ke4yjGlveG   \n",
      "2                    Kothabangarulokam  4EWlRbJKBFFRulwfKK6tYp   \n",
      "3                           Bommarillu  2394D0vwxXW80JtLlYSuWj   \n",
      "4                         Ela Cheppanu  0l6W1goSvyQISG9VSUpGmw   \n",
      "..                                 ...                     ...   \n",
      "95                               Vaasu  6qOvN9Or0ozPp7K4a2sKqg   \n",
      "96                               Gayam  7i8KNxKH63yorR0QewmGOJ   \n",
      "97                   Kothabangarulokam  4EWlRbJKBFFRulwfKK6tYp   \n",
      "98                              Pranam  4Ws5I7NwaxQkn7zGll0cBg   \n",
      "99                    Manasantha Nuvve  5wuoYDeO8iW8dKcunM4GPu   \n",
      "\n",
      "                  Track ID  Popularity Release Date  Duration (ms)  Explicit  \\\n",
      "0   1VBvgXzwESW9V7DXXGSiwm          54   2012-12-16         225953     False   \n",
      "1   0i5KYCaQs1xY7z9MWCFoXW          55   2020-01-21         364375     False   \n",
      "2   0II8bNccmnWMTkc0LHuROD          50   2008-08-30         265169     False   \n",
      "3   07D0H4cb2rlE0BDhvRtnhP          57   2006-08-14         272649     False   \n",
      "4   0rC1qIE6ZD3hqUExbvVvjn          43   2003-09-05         276663     False   \n",
      "..                     ...         ...          ...            ...       ...   \n",
      "95  3FMZjSpOkWKYdseNXB7zxh          31   2002-03-10         282619     False   \n",
      "96  6RnalZcp3Dpad8MVEg8D2I           0   2014-08-01         349100     False   \n",
      "97  5VxL1b7OOpc1m0n2eAiAoo          46   2008-08-30         309838     False   \n",
      "98  6Rb6rRCaVsZGNVYh6bpQti          43   2003-07-25         211400     False   \n",
      "99  0LdTY0ozNj0b7AVfWjKkpx          48   2001-09-01         317806     False   \n",
      "\n",
      "                                        External URLs  ...  Energy  Key  \\\n",
      "0   https://open.spotify.com/track/1VBvgXzwESW9V7D...  ...   0.532   11   \n",
      "1   https://open.spotify.com/track/0i5KYCaQs1xY7z9...  ...   0.559    4   \n",
      "2   https://open.spotify.com/track/0II8bNccmnWMTkc...  ...   0.483    0   \n",
      "3   https://open.spotify.com/track/07D0H4cb2rlE0BD...  ...   0.543    9   \n",
      "4   https://open.spotify.com/track/0rC1qIE6ZD3hqUE...  ...   0.665   11   \n",
      "..                                                ...  ...     ...  ...   \n",
      "95  https://open.spotify.com/track/3FMZjSpOkWKYdse...  ...   0.556    0   \n",
      "96  https://open.spotify.com/track/6RnalZcp3Dpad8M...  ...   0.499    9   \n",
      "97  https://open.spotify.com/track/5VxL1b7OOpc1m0n...  ...   0.386    4   \n",
      "98  https://open.spotify.com/track/6Rb6rRCaVsZGNVY...  ...   0.373    2   \n",
      "99  https://open.spotify.com/track/0LdTY0ozNj0b7AV...  ...   0.761    9   \n",
      "\n",
      "    Loudness  Mode  Speechiness  Acousticness  Instrumentalness  Liveness  \\\n",
      "0    -10.078     1       0.0341        0.6420          0.011200    0.1490   \n",
      "1     -8.829     0       0.0508        0.2100          0.000118    0.1160   \n",
      "2    -10.749     1       0.0860        0.0953          0.000000    0.2130   \n",
      "3     -8.418     0       0.0457        0.1300          0.000075    0.1040   \n",
      "4     -5.026     0       0.0318        0.3260          0.000003    0.1650   \n",
      "..       ...   ...          ...           ...               ...       ...   \n",
      "95    -9.624     1       0.1730        0.2670          0.000000    0.0301   \n",
      "96   -10.810     1       0.1170        0.7730          0.010500    0.0788   \n",
      "97   -10.574     1       0.0358        0.6930          0.000227    0.1440   \n",
      "98    -8.583     0       0.0331        0.3810          0.000009    0.1410   \n",
      "99    -3.975     0       0.0485        0.4770          0.000002    0.0934   \n",
      "\n",
      "    Valence    Tempo  \n",
      "0     0.800  117.027  \n",
      "1     0.388   90.009  \n",
      "2     0.360   87.884  \n",
      "3     0.307   89.995  \n",
      "4     0.612  123.943  \n",
      "..      ...      ...  \n",
      "95    0.905  132.980  \n",
      "96    0.177  165.417  \n",
      "97    0.278  134.957  \n",
      "98    0.469  139.891  \n",
      "99    0.410   94.402  \n",
      "\n",
      "[100 rows x 21 columns]\n"
     ]
    }
   ],
   "source": [
    "playlist_id = '7bUJaaksI2okk2ccSq0u2G'\n",
    "\n",
    "# Call the function to get the music data from the playlist and store it in a DataFrame\n",
    "music_df = get_trending_playlist_data(playlist_id, access_token)\n",
    "\n",
    "# Display the DataFrame\n",
    "print(music_df)"
   ]
  },
  {
   "cell_type": "markdown",
   "metadata": {},
   "source": [
    "#### <u> Extracting Music Data from a Spotify Playlist- </u>\n",
    "\n",
    "#### In this code snippet, we use a sample **playlist ID*: 7bUJaaksI2okk2ccSq0u2G. The code calls the *get_trending_playlist_data* function, using the provided *access_token* to extract music data from this playlist. The collected data is stored in a DataFrame called *music_df*, and the DataFrame is printed to display the extracted music data.\n",
    "\n",
    "\n",
    "#### Now, let’s check if the data contains any null values.\n"
   ]
  },
  {
   "cell_type": "code",
   "execution_count": 30,
   "metadata": {},
   "outputs": [
    {
     "name": "stdout",
     "output_type": "stream",
     "text": [
      "Track Name          0\n",
      "Artists             0\n",
      "Album Name          0\n",
      "Album ID            0\n",
      "Track ID            0\n",
      "Popularity          0\n",
      "Release Date        0\n",
      "Duration (ms)       0\n",
      "Explicit            0\n",
      "External URLs       0\n",
      "Danceability        0\n",
      "Energy              0\n",
      "Key                 0\n",
      "Loudness            0\n",
      "Mode                0\n",
      "Speechiness         0\n",
      "Acousticness        0\n",
      "Instrumentalness    0\n",
      "Liveness            0\n",
      "Valence             0\n",
      "Tempo               0\n",
      "dtype: int64\n"
     ]
    }
   ],
   "source": [
    "print(music_df.isnull().sum())"
   ]
  },
  {
   "cell_type": "markdown",
   "metadata": {},
   "source": [
    "#### <U> Importing Necessary Python Libraries- </u>"
   ]
  },
  {
   "cell_type": "code",
   "execution_count": null,
   "metadata": {},
   "outputs": [],
   "source": [
    "import pandas as pd\n",
    "import numpy as np\n",
    "from sklearn.model_selection import train_test_split\n",
    "from sklearn.preprocessing import MinMaxScaler\n",
    "from datetime import datetime\n",
    "from sklearn.metrics.pairwise import cosine_similarity\n",
    "\n",
    "data = music_df"
   ]
  },
  {
   "cell_type": "markdown",
   "metadata": {},
   "source": [
    "#### While providing music recommendations to users, it is important to recommend the latest releases. For this, we need to give more weight to the latest releases in the recommendations. Let’s write a function to solve this problem:"
   ]
  },
  {
   "cell_type": "code",
   "execution_count": null,
   "metadata": {},
   "outputs": [],
   "source": [
    "\n",
    "def calculate_weighted_popularity(release_date):\n",
    "    \n",
    "    release_date = datetime.strptime(release_date, '%Y-%m-%d')\n",
    "\n",
    "    \n",
    "    time_span = datetime.now() - release_date\n",
    "\n",
    "    \n",
    "    weight = 1 / (time_span.days + 1)\n",
    "    return weight"
   ]
  },
  {
   "cell_type": "markdown",
   "metadata": {},
   "source": [
    "#### This function calculates a weighted popularity score based on a track's release date.\n",
    "#### It takes the release date (format: 'YYYY-MM-DD') as input and converts it to a datetime object.\n",
    "#### The time span between the release date and today's date is calculated using datetime.now() - release_date.\n",
    "# \n",
    "#### Weighted popularity score formula:\n",
    "####   weight = 1 / (time_span.days + 1)\n",
    "# \n",
    "#### This helps prioritize recent releases in the recommendation system.\n"
   ]
  },
  {
   "cell_type": "markdown",
   "metadata": {},
   "source": [
    "### Now let’s normalize the music features before moving forward:"
   ]
  },
  {
   "cell_type": "code",
   "execution_count": 31,
   "metadata": {},
   "outputs": [],
   "source": [
    "# Normalize the music features using Min-Max scaling\n",
    "scaler = MinMaxScaler()\n",
    "music_features = music_df[['Danceability', 'Energy', 'Key', \n",
    "                           'Loudness', 'Mode', 'Speechiness', 'Acousticness',\n",
    "                           'Instrumentalness', 'Liveness', 'Valence', 'Tempo']].values\n",
    "music_features_scaled = scaler.fit_transform(music_features)"
   ]
  },
  {
   "cell_type": "markdown",
   "metadata": {},
   "source": [
    "#### Generates music recommendations based on audio similarity using an input song name (input_song_name).\n",
    "#### Checks if input_song_name exists in music_df (data: 'Track Name', 'Artists', 'Album Name', 'Release Date', 'Popularity').\n",
    "#### Calculates cosine similarity between the input song’s audio features and other songs, excluding the input song itself.\n",
    "#### Retrieves top recommendations based on similarity and prepares for a hybrid approach with weighted popularity.\n"
   ]
  },
  {
   "cell_type": "code",
   "execution_count": null,
   "metadata": {},
   "outputs": [],
   "source": [
    "\n",
    "def content_based_recommendations(input_song_name, num_recommendations=5):\n",
    "    if input_song_name not in music_df['Track Name'].values:\n",
    "        print(f\"'{input_song_name}' not found in the dataset. Please enter a valid song name.\")\n",
    "        return\n",
    "\n",
    "    \n",
    "    input_song_index = music_df[music_df['Track Name'] == input_song_name].index[0]\n",
    "\n",
    "    \n",
    "    similarity_scores = cosine_similarity([music_features_scaled[input_song_index]], music_features_scaled)\n",
    "\n",
    "    \n",
    "    similar_song_indices = similarity_scores.argsort()[0][::-1][1:num_recommendations + 1]\n",
    "\n",
    "\n",
    "    content_based_recommendations = music_df.iloc[similar_song_indices][['Track Name', 'Artists', 'Album Name', 'Release Date', 'Popularity']]\n",
    "\n",
    "    return content_based_recommendations"
   ]
  },
  {
   "cell_type": "markdown",
   "metadata": {},
   "source": [
    "#### Hybrid approach combines content similarity and weighted popularity for personalized recommendations.\n",
    "#### The function first gets content-based recommendations for input_song_name using content_based_recommendations function.\n",
    "#### It calculates the popularity score of the input song and its weighted popularity (via calculate_weighted_popularity).\n",
    "#### Alpha parameter adjusts the balance between content-based and popularity-based recommendations.\n",
    "\n",
    "#### Combines content-based recommendations with input song details (track name, artists, album, release date, popularity).\n",
    "#### Sorts hybrid_recommendations DataFrame by weighted popularity, placing most popular, relevant songs at the top.\n",
    "#### Finally, the input song is excluded from the final recommendations to avoid redundancy.\n"
   ]
  },
  {
   "cell_type": "code",
   "execution_count": 25,
   "metadata": {},
   "outputs": [],
   "source": [
    "import pandas as pd\n",
    "\n",
    "def hybrid_recommendations(input_song_name, num_recommendations=5, alpha=0.5):\n",
    "    if input_song_name not in music_df['Track Name'].values:\n",
    "        print(f\"'{input_song_name}' not found in the dataset. Please enter a valid song name.\")\n",
    "        return\n",
    "\n",
    "    content_based_rec = content_based_recommendations(input_song_name, num_recommendations)\n",
    "\n",
    "    popularity_score = music_df.loc[music_df['Track Name'] == input_song_name, 'Popularity'].values[0]\n",
    "\n",
    "    weighted_popularity_score = popularity_score * calculate_weighted_popularity(\n",
    "        music_df.loc[music_df['Track Name'] == input_song_name, 'Release Date'].values[0]\n",
    "    )\n",
    "\n",
    "    new_entry = pd.DataFrame({\n",
    "        'Track Name': [input_song_name],\n",
    "        'Artists': [music_df.loc[music_df['Track Name'] == input_song_name, 'Artists'].values[0]],\n",
    "        'Album Name': [music_df.loc[music_df['Track Name'] == input_song_name, 'Album Name'].values[0]],\n",
    "        'Release Date': [music_df.loc[music_df['Track Name'] == input_song_name, 'Release Date'].values[0]],\n",
    "        'Popularity': [weighted_popularity_score]\n",
    "    })\n",
    "\n",
    "    hybrid_recommendations = pd.concat([content_based_rec, new_entry], ignore_index=True)\n",
    "\n",
    "    hybrid_recommendations = hybrid_recommendations.sort_values(by='Popularity', ascending=False)\n",
    "\n",
    "    hybrid_recommendations = hybrid_recommendations[hybrid_recommendations['Track Name'] != input_song_name]\n",
    "\n",
    "    return hybrid_recommendations"
   ]
  },
  {
   "cell_type": "code",
   "execution_count": 26,
   "metadata": {},
   "outputs": [
    {
     "name": "stdout",
     "output_type": "stream",
     "text": [
      "Hybrid recommended songs for 'Mellaga':\n",
      "               Track Name                                            Artists  \\\n",
      "2               Ghal Ghal                             S. P. Balasubrahmanyam   \n",
      "4             Avunu Nijam                                        KK, Sunitha   \n",
      "1           Sri Anjaneyam                        M.L.R. Karthikeyan, Jr. NTR   \n",
      "3         Musugu Veyyoddu                                            Kalpana   \n",
      "0  Intikeldam Padavammo..  S. P. Balasubrahmanyam, K. S. Chithra, Swarnal...   \n",
      "\n",
      "                                     Album Name Release Date  Popularity  \n",
      "2                    Nuvvostanante Nenoddantana   2005-01-14        52.0  \n",
      "4                                        Athadu         2005        49.0  \n",
      "1                                   Oosaravelli   2011-09-16        43.0  \n",
      "3                                       Khadgam   2002-10-29        39.0  \n",
      "0  Golden Hits Of Sirivennela Seetharama Sastry   2022-05-16        15.0  \n"
     ]
    }
   ],
   "source": [
    "input_song_name = \"Mellaga\"\n",
    "recommendations = hybrid_recommendations(input_song_name, num_recommendations=5)\n",
    "print(f\"Hybrid recommended songs for '{input_song_name}':\")\n",
    "print(recommendations)"
   ]
  },
  {
   "cell_type": "markdown",
   "metadata": {},
   "source": [
    "### <u>Conclusion-</u>\n",
    "\n",
    "#### I hope you found this guide helpful for building a **Music Recommendation System** using the **Spotify API** and Python! This project demonstrates how Data Science can enhance user experiences by offering personalized music recommendations based on listening preferences. \n",
    "\n",
    "#### Through this project, you've learned how to utilize APIs to collect real-time data and put it to practical use in a recommendation system. Feel free to reach out with any questions or if you encounter issues signing up for a Spotify developer account.\n"
   ]
  },
  {
   "cell_type": "code",
   "execution_count": null,
   "metadata": {},
   "outputs": [],
   "source": []
  }
 ],
 "metadata": {
  "kernelspec": {
   "display_name": "Python 3",
   "language": "python",
   "name": "python3"
  },
  "language_info": {
   "codemirror_mode": {
    "name": "ipython",
    "version": 3
   },
   "file_extension": ".py",
   "mimetype": "text/x-python",
   "name": "python",
   "nbconvert_exporter": "python",
   "pygments_lexer": "ipython3",
   "version": "3.12.3"
  }
 },
 "nbformat": 4,
 "nbformat_minor": 2
}
